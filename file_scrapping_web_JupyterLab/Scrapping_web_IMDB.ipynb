from bs4 import BeautifulSoup
import pandas as pd
import cloudscraper
import re
from selenium import webdriver
from selenium.webdriver.common.keys import Keys
from selenium.webdriver.chrome.service import Service
from selenium.webdriver import Chrome
from selenium.webdriver.chrome.options import Options
from datetime import datetime
import requests
import os

path = "chromedriver-win32/chromedriver.exe"

chrome_options = Options()
chrome_options.add_argument("--headless")
service = Service(path)
# browser = webdriver.Chrome(options = chrome_options, service = service)
browser = webdriver.Chrome()

# Akses website dan mencari film
browser.get("https://www.imdb.com/")
search_box = browser.find_element("id", "suggestion-search")
# Hapus isi dari search_box (siapa tau ada isinya)
search_box.clear()
search_box.send_keys("Godzilla x Kong: The New Empire")
# Mencari tombol untuk melakukan search sesuai dengan keys/keyword yang diberikan sebelumnya lalu klik
search_btn = browser.find_element("id", "suggestion-search-button")
search_btn.click()

# Ambil seluruh Source Code/HTMLnya dari hasil Pencarian yang telah dilakukan
page = browser.page_source
soup = BeautifulSoup(page, "html.parser")
# Tes munculin Souce Code/HTMLnya (Apakah berhasil atau tidak)
# print(soup)

# Mengambil salah satu link yang telah muncul dari hasil pencarian
link_tag = soup.find('a', class_='ipc-metadata-list-summary-item__t')
if link_tag:
    link = link_tag['href']
    full_link = f"https://www.imdb.com{link}"
    # print("Menemukan link: ", full_link)

    # Mengakses link yang telah di ambil sebelumnya
    browser.get(full_link)

    # Tunggu sampai halaman film dimuat
    browser.implicitly_wait(10)
    
    # Ambil source code dari halaman film untuk Top Picks
    tp_film_page = browser.page_source
    tp_film_soup = BeautifulSoup(tp_film_page, "html.parser")
    
    # Mengambil div yang isinya adalah tag a dengan link yang menuju ke halaman Top Picks
    poster_links = tp_film_soup.find_all("div",{"data-testid":"top-picks--title"})
    # print("Mendapatkan html Top Picks", poster_links)
    
    # Buat list untuk menyimpan data film
    data_film = []
    count = 0
    
    for div in poster_links:
        # Mencari link yang menuju ke Top Picks
        a_tag = div.find("a", {"class": "ipc-title-link-wrapper"})
        if a_tag and 'href' in a_tag.attrs:
            href = a_tag['href']
            full_link1 = f"https://www.imdb.com{href}"
            # print("Top Picks Link: ", full_link1)

            # Akses setiap link dari Top Picks
            browser.get(full_link1)
            # Tunggu sampai halaman film dimuat
            browser.implicitly_wait(5)
        
            # Ambil source code dari halaman tersebut
            top_pick_page_source = browser.page_source
            top_pick_soup = BeautifulSoup(top_pick_page_source, "html.parser")
            # print(top_pick_soup)

            # Mencari setiap link dari film Top Picks yang ada
            list_tp_film_link = top_pick_soup.find_all("a", class_="ipc-poster-card__title ipc-poster-card__title--clamp-2 ipc-poster-card__title--clickable")
            for ltp_film in list_tp_film_link:
                # Ambil href dari setiap tag <a>
                href = ltp_film.get('href')
                if href:
                    full_link2 = f"https://www.imdb.com{href}"
                    # print("Top Picks Link:", full_link2)
                    
                    # Akses setiap link dari Top Picks
                    browser.get(full_link2)
                    # Tunggu sampai halaman film dimuat
                    browser.implicitly_wait(10)
                    
                    # Ambil source code dari halaman tersebut
                    detail_film_tp_source = browser.page_source
                    detail_film_tp = BeautifulSoup(detail_film_tp_source, "html.parser")
                    
                    # Ambil data Judul
                    judul_film = detail_film_tp.find('span', class_='hero__primary-text', attrs={'data-testid': 'hero__primary-text'})
                    if judul_film:
                        judul_film = judul_film.text
                    else:
                        judul_film = "Judul tidak ditemukan" 

                    # Ambil data Rating
                    rating_film = detail_film_tp.find('span', class_='sc-bde20123-1').text

                    # Ambil data Gambar
                    # Pastikan bahwa direktori 'gambar' sudah ada atau buat jika belum ada
                    gambar_dir = 'gambar'
                    if not os.path.exists(gambar_dir):
                        os.makedirs(gambar_dir)
                    
                    # Ambil URL gambar poster
                    poster_img = detail_film_tp.find('img', class_='ipc-image')
                    if poster_img:
                        poster_url = poster_img['src']
                        # Membersihkan judul film dari karakter yang tidak valid dalam nama file
                        invalid_chars = [":", "/", "\\", "?", "\"", "*", "|", "<", ">", "."]
                        judul_film_clean = judul_film
                        for char in invalid_chars:
                            judul_film_clean = judul_film_clean.replace(char, "")
                        # Download gambar poster
                        response = requests.get(poster_url)

                        data_filename = f"{judul_film_clean}.jpg"
                        
                        if response.status_code == 200:
                            # Simpan gambar dengan nama file yang merupakan judul film yang sudah dibersihkan
                            filename = os.path.join(gambar_dir, data_filename)
                            with open(filename, 'wb') as f:
                                f.write(response.content)
                            # print(f"Poster berhasil diunduh: {filename}")
                        else:
                            print("Gagal mengunduh poster")
                    else:
                        print("Gambar poster tidak ditemukan")
                        
                    # Ambil data Genres
                    genres = detail_film_tp.find("div", class_="ipc-chip-list__scroller")
                    if genres:
                        genres_links = genres.find_all("a", class_="ipc-chip ipc-chip--on-baseAlt")
                        genres_texts = [linka.text for linka in genres_links]
                        # print("Genres:", ", ".join(genres))
                        genres_result = ", ".join(genres_texts)
                    else:
                        print("Genres tidak ditemukan")

                    # Ambil data Ringkasan
                    ringkasan_film = detail_film_tp.find('span', class_='sc-eb5317c9-2 bruFve').text

                    print("=====================================")
                    count += 1
                    print("Judul ke-" + str(count) + "= " + judul_film)
                    print("Link_film = " + full_link2)
                    print("Gambar = " + data_filename)
                    print("Rating = " + rating_film)
                    print("Genres = " + genres_result)
                    print("Summary = " + ringkasan_film)

                    # Ambil data detail Box Office
                    budget_num = 0
                    gross_us_num = 0
                    open_week_rev_num = 0
                    open_week_date_std = "1900-01-01 00:00:00"
                    gross_world_num = 0
                    print("-------------Box Office--------------")
                    budget = detail_film_tp.find("li", class_="ipc-metadata-list__item", attrs={"data-testid": "title-boxoffice-budget"})
                    if budget is not None:
                        det_budget = budget.find("span", class_="ipc-metadata-list-item__list-content-item").text
                        # print(det_budget)
                        budget_num = int(re.sub("[A-Z£€₹$,()a-z]","",det_budget))
                    else:
                        print("Tidak bisa mengambil data budget")
                        budget_num = 0

                    gross_us = detail_film_tp.find("li", class_="ipc-metadata-list__item", attrs={"data-testid": "title-boxoffice-grossdomestic"})
                    if gross_us is not None:
                        det_gross_us = gross_us.find("span", class_="ipc-metadata-list-item__list-content-item").text
                        # print(det_budget)
                        gross_us_num = int(re.sub("[A-Z£€₹$,()a-z]","",det_gross_us))
                    else:
                        print("Tidak bisa mengambil data gross_us")
                        gross_us_num = 0

                    open_week = detail_film_tp.find("li", class_="ipc-metadata-list__item", attrs={"data-testid": "title-boxoffice-openingweekenddomestic"})
                    if open_week is not None:
                        det_movie = open_week.find_all("span",{"class":"ipc-metadata-list-item__list-content-item"})
        
                        if len(det_movie) > 1:
                            open_week_rev = det_movie[0].text
                            open_week_date = det_movie[1].text
                            # print(open_week_rev, open_week_date)
                            open_week_rev_num = int(re.sub("[A-Z£€₹$,()a-z]","",open_week_rev))
                            open_week_date_std = datetime.strptime(open_week_date, "%b %d, %Y")
                        else:
                            print("Tidak bisa mengambil data open_week")
                            open_week_rev_num = 0
                            open_week_date_std = "1900-01-01 00:00:00"
                    else:
                        print("Tidak bisa mengambil data open_week")
                        open_week_rev = 0
                        open_week_date = "-"

                    gross_world = detail_film_tp.find("li", class_="ipc-metadata-list__item", attrs={"data-testid": "title-boxoffice-cumulativeworldwidegross"})
                    if gross_world is not None:
                        det_gross_world = gross_world.find("span", class_="ipc-metadata-list-item__list-content-item").text
                        # print(det_budget)
                        gross_world_num = int(re.sub("[A-Z£€₹$,()a-z]","",det_gross_world))
                    else:
                        print("Tidak bisa mengambil data gross_world")
                        gross_world_num = 0

                    print("Budget =", budget_num)
                    print("Gross_us =" , gross_us_num)
                    print("Opening_week_rev =" , open_week_rev_num)
                    print("Opening_week_date =", open_week_date_std)
                    print("Gross_world =", gross_world_num)

                    # Ambil data detail Technical Specs
                    total_menit = 0
                    print("-----------Technical Specs-----------")
                    runtime = detail_film_tp.find("li", class_="ipc-metadata-list__item", attrs={"data-testid": "title-techspec_runtime"})
                    if runtime is not None:
                        det_runtime = runtime.find("div", class_="ipc-metadata-list-item__content-container")
                        
                        if det_runtime is not None:
                            runtime_text = det_runtime.get_text()
                            # print(runtime_text)
                            durasi = runtime_text.split(" ")
                            
                            # Jika terdapat "hour" atau "hours" dan "minutes" dalam runtime
                            if ("hour" in durasi or "hours" in durasi) and "minutes" in durasi:
                                total_menit = int(durasi[0].replace("hours", "").replace("hour", "").strip()) * 60 + int(durasi[2].replace("minutes", "").strip())
                            # Jika hanya terdapat "hour" atau "hours" dalam durasi
                            elif ("hour" in durasi or "hours" in durasi) and "minutes" not in durasi:
                                total_menit = int(durasi[0].replace("hours", "").replace("hour", "").strip()) * 60
                            else:
                                total_menit = 0
                            # print(total_menit)
                        else:
                            print("Tidak memiliki runtime 2")
                            total_menit = 0
                    else:
                        print("Tidak memiliki runtime 1")
                        total_menit = 0
            
                    color = detail_film_tp.find("li", class_="ipc-metadata-list__item", attrs={"data-testid": "title-techspec_color"})
                    if color is not None:
                        det_color = color.find("a", class_="ipc-metadata-list-item__list-content-item ipc-metadata-list-item__list-content-item--link").text
                        # print(det_color)
                    else:
                        print("Tidak bisa mengambil data color")
                        det_color = "-"
            
                    sound_mix = detail_film_tp.find("li", class_="ipc-metadata-list__item", attrs={"data-testid": "title-techspec_soundmix"})
                    if sound_mix is not None:
                        det_sound_mix = sound_mix.find_all("a", class_="ipc-metadata-list-item__list-content-item ipc-metadata-list-item__list-content-item--link")
                        sound_mix_texts = [link.text for link in det_sound_mix]
                        sound_mix_result = ", ".join(sound_mix_texts)
                        # print(sound_mix_result)
                    else:
                        print("Tidak memiliki sound mix")
                        sound_mix_result = "-"
            
                    aspect_ratio = detail_film_tp.find("li", class_="ipc-metadata-list__item", attrs={"data-testid": "title-techspec_aspectratio"})
                    if aspect_ratio is not None:
                        det_aspect_ratio = aspect_ratio.find("span", class_="ipc-metadata-list-item__list-content-item").text
                        # print(det_aspect_ratio)
                    else:
                        print("Tidak bisa mengambil data aspect ratio")
                        det_aspect_ratio = "-"
            
                    print("Runtime =", total_menit)
                    print("Color =" , det_color)
                    print("Round mix =" , sound_mix_result)
                    print("Aspect ratio =", det_aspect_ratio)
                    print("=====================================")

                    # Simpan data yang telah diambil dalam dictionary
                    data_film.append({
                        "Title": judul_film,
                        "Link_film": full_link2,
                        "Rating": rating_film,
                        "Image": data_filename,
                        "Genre": genres_result,
                        "Summary": ringkasan_film,
                        "Budget": budget_num,
                        "Gross_us": gross_us_num,
                        "Opening_week_rev": open_week_rev_num,
                        "Opening_week_date": open_week_date_std,
                        "Gross_world": gross_world_num,
                        "Runtime": total_menit,
                        "Color": det_color,
                        "Sound_mix": sound_mix_result,
                        "Aspect_ratio": det_aspect_ratio
                    })
            
                    # Buat DataFrame dari data film
                    df = pd.DataFrame(data_film)
                
                    # Simpan DataFrame ke file Excel dan Csv (pilih salah satu buat diaktifin)
                    df.to_excel("top_picks_data.xlsx", index=False)
                    df.to_csv("top_picks_data.csv", index=False)
                else:
                    print("Link list film Top Picks tidak ditemukan")
        else:
            print("Link Top Picks tidak ditemukan")
else:
    print("Link tidak ditemukan")
